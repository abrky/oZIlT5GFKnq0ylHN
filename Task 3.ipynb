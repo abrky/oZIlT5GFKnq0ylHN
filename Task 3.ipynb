{
 "cells": [
  {
   "cell_type": "markdown",
   "id": "219fb173",
   "metadata": {},
   "source": [
    "# Data Scientist Hiring Challenge\n",
    "\n",
    "## Background\n",
    "An E-commerce website has hundreds of thousands of visitors everyday. The visitors come from several marketing channels such as digital campaigns on social media, referrals from publishers, organic search and CRM.\n",
    "\n",
    "\n",
    "The main business here is collecting traffic from different sources/channels and converting those visitors to leads. A marketing lead is **a person who shows interest in a brand's products or services**, which makes a visitor a potential customer for the seller/service provider. The primary goal of any company is to generate as many leads as possible to ultimately increase conversion rates in the sales funnel.\n",
    "\n",
    "\n",
    "The main aim in the challenge is to develop a model that can forecast the next day number of leads.\n",
    "\n",
    " \n",
    "\n",
    "## Datasets and Features\n",
    "There is one main dataset and three others as auxiliary:\n",
    "\n",
    "1. Transactions dataset is the main dataset that stores the number of leads for each minute broken down according to products and channels. The data goes back till 29.09.2020.\n",
    "    \n",
    "    Features:\n",
    "\n",
    "    * pk: primary key and unique ID in the database table\n",
    "    * ga_transactionid: the id of the transaction from google Analytics\n",
    "    * ga_datehour: the time of the transaction in yyyymmddHH format\n",
    "    * ga_products: name of the products (Product A, Product B, Product C, Product D, Product E, Product F)\n",
    "    * ga_channels: the channel a visitor comes for (Facebook, Google Ads, Organic search, Direct, CRM)\n",
    "    * ga_itemquantity: number of leads\n",
    "\n",
    "2. Economic calendar dataset keeps record of all events that may affect economic variables such as currency exchange rate, interest rate, and stockes in the market.\n",
    "    \n",
    "    Features:\n",
    "\n",
    "    * pk: primary key and unique ID in the database table  \n",
    "    * date: starts from 28.04.2021\n",
    "    * time: when the event takes place\n",
    "    * country: where the event happened\n",
    "    * indicator: the name of the event\n",
    "    * priority: there are three levels (1, 2, 3) where 3 is the highest priority\n",
    "    * exception: anticipated market impact  \n",
    "    * previous: represents the previous market impact either positive or negative\n",
    " \n",
    "\n",
    "3. Economic variables dataset observes and keeps track of the changes in terms of important variables such as USDTRY or BIST100. The dataset stores the variables daily at three different hours (09, 12, 15) hrs.\n",
    "    \n",
    "    Features:\n",
    "\n",
    "    * pk: primary key and unique ID in the database table\n",
    "    * date: starts from 28.04.2021\n",
    "    * hour: (09, 12, 15) hrs\n",
    "    * bist100: Borsa Istanbul stock exchange\n",
    "    * usdtry: usd and try exchange rate\n",
    "    * eurtry: eur and try exchange rate\n",
    "    * eurusd: eur and usd exchange rate\n",
    "    * faiz: interest rate in Turkey\n",
    "    * xau: gold price in ounce\n",
    "    * brent: Atlantic basin crude oils price\n",
    "4. Live Digital campaigns dataset that has the number of live digital campaigns for everyday since 29.09.2020.\n",
    "    \n",
    "    Features:\n",
    "\n",
    "    * date: since 29.09.2020\n",
    "    * live_campaigns: numeric value of the number of campaign\n",
    "\n",
    "\n",
    "## Tasks\n",
    "1. Give some analysis on the relationship between the economical events and variables and their impacts on the daily number of visitors.\n",
    "2. Using Transaction dataset, forecast the next day leads for each channel (Facebook, CRM and so on).\n",
    "3. Given the number of live digital campaigns and other auxiliary datasets, try to optimise the performance of your forecasting model (or even develop a new model).\n",
    "\n",
    "## Deliverables\n",
    "\n",
    "\n",
    "Write your solution on jupyter notebooks for each task (analysis and model development) and make it clear you explain what you are doing properly.\n",
    "\n",
    "\n",
    "Your jupyter notebooks for each task should be named in the following format: Task1.ipynb, Task2.ipynb and Task3.ipynb\n",
    "\n",
    "\n",
    "Make sure that your code is replicable and you document your approach and code in a clear way."
   ]
  },
  {
   "cell_type": "markdown",
   "id": "7f5ef9b6",
   "metadata": {},
   "source": [
    "## Task 3\n",
    "\n",
    "Given the number of live digital campaigns and other auxiliary datasets, try to optimise the performance of your forecasting model (or even develop a new model)."
   ]
  },
  {
   "cell_type": "code",
   "execution_count": 1,
   "id": "18301daf",
   "metadata": {},
   "outputs": [],
   "source": [
    "#Let's import necessary libraries\n",
    "import pandas as pd\n",
    "import numpy as np\n",
    "import matplotlib.pyplot as plt\n",
    "import seaborn as sns\n",
    "from datetime import datetime\n",
    "import warnings\n",
    "warnings.filterwarnings(\"ignore\")"
   ]
  },
  {
   "cell_type": "code",
   "execution_count": 2,
   "id": "a095c59d",
   "metadata": {},
   "outputs": [
    {
     "data": {
      "text/html": [
       "<div>\n",
       "<style scoped>\n",
       "    .dataframe tbody tr th:only-of-type {\n",
       "        vertical-align: middle;\n",
       "    }\n",
       "\n",
       "    .dataframe tbody tr th {\n",
       "        vertical-align: top;\n",
       "    }\n",
       "\n",
       "    .dataframe thead th {\n",
       "        text-align: right;\n",
       "    }\n",
       "</style>\n",
       "<table border=\"1\" class=\"dataframe\">\n",
       "  <thead>\n",
       "    <tr style=\"text-align: right;\">\n",
       "      <th></th>\n",
       "      <th>date</th>\n",
       "      <th>live_campaign</th>\n",
       "    </tr>\n",
       "  </thead>\n",
       "  <tbody>\n",
       "    <tr>\n",
       "      <th>0</th>\n",
       "      <td>2020-08-29</td>\n",
       "      <td>126</td>\n",
       "    </tr>\n",
       "    <tr>\n",
       "      <th>1</th>\n",
       "      <td>2020-08-30</td>\n",
       "      <td>121</td>\n",
       "    </tr>\n",
       "    <tr>\n",
       "      <th>2</th>\n",
       "      <td>2020-08-31</td>\n",
       "      <td>130</td>\n",
       "    </tr>\n",
       "    <tr>\n",
       "      <th>3</th>\n",
       "      <td>2020-09-01</td>\n",
       "      <td>134</td>\n",
       "    </tr>\n",
       "    <tr>\n",
       "      <th>4</th>\n",
       "      <td>2020-09-02</td>\n",
       "      <td>133</td>\n",
       "    </tr>\n",
       "    <tr>\n",
       "      <th>...</th>\n",
       "      <td>...</td>\n",
       "      <td>...</td>\n",
       "    </tr>\n",
       "    <tr>\n",
       "      <th>411</th>\n",
       "      <td>2021-10-14</td>\n",
       "      <td>134</td>\n",
       "    </tr>\n",
       "    <tr>\n",
       "      <th>412</th>\n",
       "      <td>2021-10-15</td>\n",
       "      <td>135</td>\n",
       "    </tr>\n",
       "    <tr>\n",
       "      <th>413</th>\n",
       "      <td>2021-10-16</td>\n",
       "      <td>121</td>\n",
       "    </tr>\n",
       "    <tr>\n",
       "      <th>414</th>\n",
       "      <td>2021-10-17</td>\n",
       "      <td>132</td>\n",
       "    </tr>\n",
       "    <tr>\n",
       "      <th>415</th>\n",
       "      <td>2021-10-18</td>\n",
       "      <td>97</td>\n",
       "    </tr>\n",
       "  </tbody>\n",
       "</table>\n",
       "<p>416 rows × 2 columns</p>\n",
       "</div>"
      ],
      "text/plain": [
       "           date  live_campaign\n",
       "0    2020-08-29            126\n",
       "1    2020-08-30            121\n",
       "2    2020-08-31            130\n",
       "3    2020-09-01            134\n",
       "4    2020-09-02            133\n",
       "..          ...            ...\n",
       "411  2021-10-14            134\n",
       "412  2021-10-15            135\n",
       "413  2021-10-16            121\n",
       "414  2021-10-17            132\n",
       "415  2021-10-18             97\n",
       "\n",
       "[416 rows x 2 columns]"
      ]
     },
     "execution_count": 2,
     "metadata": {},
     "output_type": "execute_result"
    }
   ],
   "source": [
    "df_campaigns = pd.read_csv(\"live_digital_campaigns.csv\");df_campaigns"
   ]
  },
  {
   "cell_type": "code",
   "execution_count": 3,
   "id": "cd1b9a71",
   "metadata": {},
   "outputs": [],
   "source": [
    "#Let's prepare our Economic Variable dataset.\n",
    "df_economic_variables = pd.read_csv(\"economic_variables.csv\")\n",
    "df_ev = df_economic_variables.groupby(by=\"date\").mean()\n",
    "df_ev.drop(labels=[\"pk\",\"hour\"],axis=1,inplace=True)"
   ]
  },
  {
   "cell_type": "code",
   "execution_count": 4,
   "id": "58bbf1b2",
   "metadata": {},
   "outputs": [
    {
     "name": "stdout",
     "output_type": "stream",
     "text": [
      "(161, 8)\n",
      "bist100      0\n",
      "usdtry       0\n",
      "eurtry       0\n",
      "eurusd       0\n",
      "faiz         0\n",
      "xau          0\n",
      "brent        0\n",
      "bky        108\n",
      "dtype: int64\n"
     ]
    },
    {
     "data": {
      "text/plain": [
       "0.6708074534161491"
      ]
     },
     "execution_count": 4,
     "metadata": {},
     "output_type": "execute_result"
    }
   ],
   "source": [
    "print(df_ev.shape)\n",
    "print(df_ev.isnull().sum())\n",
    "df_ev.isnull().sum()[-1]/df_ev.shape[0]\n",
    "#We have 161 variable and 108 bky values are missing which is equal to %67 so we can just drop out bky column too \n",
    "#since our dataset length is only has 167 of length \n",
    "#which is very short for a machine larning algorithm to predict values correctly."
   ]
  },
  {
   "cell_type": "code",
   "execution_count": 5,
   "id": "7e2febc9",
   "metadata": {},
   "outputs": [
    {
     "data": {
      "text/html": [
       "<div>\n",
       "<style scoped>\n",
       "    .dataframe tbody tr th:only-of-type {\n",
       "        vertical-align: middle;\n",
       "    }\n",
       "\n",
       "    .dataframe tbody tr th {\n",
       "        vertical-align: top;\n",
       "    }\n",
       "\n",
       "    .dataframe thead th {\n",
       "        text-align: right;\n",
       "    }\n",
       "</style>\n",
       "<table border=\"1\" class=\"dataframe\">\n",
       "  <thead>\n",
       "    <tr style=\"text-align: right;\">\n",
       "      <th></th>\n",
       "      <th>bist100</th>\n",
       "      <th>usdtry</th>\n",
       "      <th>eurtry</th>\n",
       "      <th>eurusd</th>\n",
       "      <th>faiz</th>\n",
       "      <th>xau</th>\n",
       "      <th>brent</th>\n",
       "    </tr>\n",
       "    <tr>\n",
       "      <th>date</th>\n",
       "      <th></th>\n",
       "      <th></th>\n",
       "      <th></th>\n",
       "      <th></th>\n",
       "      <th></th>\n",
       "      <th></th>\n",
       "      <th></th>\n",
       "    </tr>\n",
       "  </thead>\n",
       "  <tbody>\n",
       "    <tr>\n",
       "      <th>2021-04-28</th>\n",
       "      <td>1388.590000</td>\n",
       "      <td>8.2159</td>\n",
       "      <td>9.937900</td>\n",
       "      <td>1.2096</td>\n",
       "      <td>18.08</td>\n",
       "      <td>1773.860000</td>\n",
       "      <td>67.330000</td>\n",
       "    </tr>\n",
       "    <tr>\n",
       "      <th>2021-04-29</th>\n",
       "      <td>1398.850000</td>\n",
       "      <td>8.1710</td>\n",
       "      <td>9.916600</td>\n",
       "      <td>1.2120</td>\n",
       "      <td>18.08</td>\n",
       "      <td>1780.190000</td>\n",
       "      <td>67.540000</td>\n",
       "    </tr>\n",
       "    <tr>\n",
       "      <th>2021-04-30</th>\n",
       "      <td>1401.520000</td>\n",
       "      <td>8.2281</td>\n",
       "      <td>9.974100</td>\n",
       "      <td>1.2117</td>\n",
       "      <td>18.08</td>\n",
       "      <td>1769.110000</td>\n",
       "      <td>68.080000</td>\n",
       "    </tr>\n",
       "    <tr>\n",
       "      <th>2021-05-03</th>\n",
       "      <td>1421.150000</td>\n",
       "      <td>8.2649</td>\n",
       "      <td>9.969400</td>\n",
       "      <td>1.2056</td>\n",
       "      <td>17.94</td>\n",
       "      <td>1793.310000</td>\n",
       "      <td>67.450000</td>\n",
       "    </tr>\n",
       "    <tr>\n",
       "      <th>2021-05-04</th>\n",
       "      <td>1420.996667</td>\n",
       "      <td>8.3091</td>\n",
       "      <td>9.995333</td>\n",
       "      <td>1.2025</td>\n",
       "      <td>17.94</td>\n",
       "      <td>1787.523333</td>\n",
       "      <td>68.113333</td>\n",
       "    </tr>\n",
       "  </tbody>\n",
       "</table>\n",
       "</div>"
      ],
      "text/plain": [
       "                bist100  usdtry    eurtry  eurusd   faiz          xau  \\\n",
       "date                                                                    \n",
       "2021-04-28  1388.590000  8.2159  9.937900  1.2096  18.08  1773.860000   \n",
       "2021-04-29  1398.850000  8.1710  9.916600  1.2120  18.08  1780.190000   \n",
       "2021-04-30  1401.520000  8.2281  9.974100  1.2117  18.08  1769.110000   \n",
       "2021-05-03  1421.150000  8.2649  9.969400  1.2056  17.94  1793.310000   \n",
       "2021-05-04  1420.996667  8.3091  9.995333  1.2025  17.94  1787.523333   \n",
       "\n",
       "                brent  \n",
       "date                   \n",
       "2021-04-28  67.330000  \n",
       "2021-04-29  67.540000  \n",
       "2021-04-30  68.080000  \n",
       "2021-05-03  67.450000  \n",
       "2021-05-04  68.113333  "
      ]
     },
     "execution_count": 5,
     "metadata": {},
     "output_type": "execute_result"
    }
   ],
   "source": [
    "df_ev.drop(labels=[\"bky\"],axis=1,inplace=True)\n",
    "df_ev.head()\n",
    "#Our economic variable dataset is ready for ML algorithm. "
   ]
  },
  {
   "cell_type": "code",
   "execution_count": 6,
   "id": "fd48eb45",
   "metadata": {},
   "outputs": [],
   "source": [
    "#Let's prepare our economic calender dataset\n",
    "df_economic_calender =pd.read_csv(\"economic_calendar.csv\")\n",
    "#Let's filter out Turkey and USA (I explained it in Task 1) \n",
    "#(If you want to learn reasoning behind it, you can check out Task 1)\n",
    "df_ec_filtered = df_economic_calender[df_economic_calender[\"country\"].isin([\"ABD\",\"Türkiye\"])]"
   ]
  },
  {
   "cell_type": "code",
   "execution_count": 7,
   "id": "cc193bc4",
   "metadata": {
    "scrolled": true
   },
   "outputs": [],
   "source": [
    "#Let's filter indicators too. we mention that interest rates, inflation and exchange rates\n",
    "df_ec_filtered = df_ec_filtered[df_ec_filtered.indicator.str.contains(\"Faiz|Enflasyon|Dolar|Döviz|Tüfe\",case=False)]"
   ]
  },
  {
   "cell_type": "code",
   "execution_count": 8,
   "id": "2b3e3fd9",
   "metadata": {},
   "outputs": [],
   "source": [
    "#And for final filtering let's take only data that has 2 or 3 priority\n",
    "df_ec_filtered = df_ec_filtered[df_ec_filtered.priority>1]"
   ]
  },
  {
   "cell_type": "code",
   "execution_count": 9,
   "id": "50bd7c24",
   "metadata": {},
   "outputs": [
    {
     "data": {
      "text/plain": [
       "Özel Kapsamlı TÜFE B Endeksi(Aylık)              7\n",
       "Özel Kapsamlı TÜFE F Endeksi(Aylık)              7\n",
       "Özel Kapsamlı TÜFE D Endeksi(Yıllık)             7\n",
       "Özel Kapsamlı TÜFE E Endeksi(Aylık)              7\n",
       "Özel Kapsamlı TÜFE D Endeksi(Aylık)              7\n",
       "Özel Kapsamlı TÜFE A Endeksi(Yıllık)             7\n",
       "Özel Kapsamlı TÜFE C Endeksi(Aylık)              7\n",
       "Özel Kapsamlı TÜFE B Endeksi(Yıllık)             7\n",
       "Özel Kapsamlı TÜFE E Endeksi(Yıllık)             7\n",
       "Özel Kapsamlı TÜFE C Endeksi(Yıllık)             7\n",
       "Özel Kapsamlı TÜFE A Endeksi(Aylık)              7\n",
       "Özel Kapsamlı TÜFE F Endeksi(Yıllık)             7\n",
       "Gıda ve Enerji Hariç TÜFE(Aylık)                 6\n",
       "Michigan 5 Yıllık Enflasyon Tahmini(Final)       6\n",
       "Gıda ve Enerji Hariç TÜFE(Yıllık)                6\n",
       "Merkezi Yönetim Faiz Giderleri(TL)               6\n",
       "Hazine Faiz Dışı Dengesi(TL)                     6\n",
       "Michigan 12 Aylık Enflasyon Tahmini(Final)       6\n",
       "Merkezi Yönetim Faiz Dışı Dengesi(TL)            6\n",
       "Merkezi Yönetim Faiz Hariç Gider(TL)             6\n",
       "Michigan 5 Yıllık Enflasyon Tahmini(Öncü)        5\n",
       "12 Ay Sonrası Dolar Kuru Beklentisi              5\n",
       "Yıl Sonu Dolar Kuru Beklentisi                   5\n",
       "Gelecek 12 Ay Repo İhale Faiz Beklentisi         5\n",
       "12 Ay Sonrası TÜFE Beklentisi                    5\n",
       "Michigan 12 Aylık Enflasyon Tahmini(Öncü)        5\n",
       "Gelecek 3 Ay Repo İhale Faiz Beklentisi          5\n",
       "TCMB Haftalık Repo Gösterge Faiz Oranı           5\n",
       "24 Ay Sonrası TÜFE Beklentisi                    5\n",
       "Gelecek 24 Ay Repo İhale Faiz Beklentisi         5\n",
       "Fed Maksimum Gösterge Faiz Oranı                 4\n",
       "Fed Minimum Gösterge Faiz Oranı                  4\n",
       "Yıl Sonu TÜFE Beklentisi                         4\n",
       "Fed İskonto Faiz Oranı                           4\n",
       "Gelecek 6 Ay Repo İhale Faiz Beklentisi          3\n",
       "Fed 2024 Ortalama Faiz Tahmini                   2\n",
       "Fed 2022 Ortalama Faiz Tahmini                   2\n",
       "Fed Uzun Dönem Ortalama Faiz Tahmini             2\n",
       "TCMB'nin 2022 Yıl Sonu TÜFE Tahmini              2\n",
       "Fed 2023 Ortalama Faiz Tahmini                   2\n",
       "TCMB'nin 2021 Yıl Sonu TÜFE Tahmini              2\n",
       "Fed 2021 Ortalama Faiz Tahmini                   2\n",
       "TCMB'nin Orta Vadeli TÜFE Tahmini                2\n",
       "TCMB Beklenti Anketi-Yıl Sonu TÜFE Beklentisi    1\n",
       "Name: indicator, dtype: int64"
      ]
     },
     "execution_count": 9,
     "metadata": {},
     "output_type": "execute_result"
    }
   ],
   "source": [
    "df_ec_filtered.indicator.value_counts()\n",
    "#I want to see more in details what indicators have recurred to see which indicator is important the most. \n",
    "#It is clearly seen that TÜFE is the most important indicator to our data table. "
   ]
  },
  {
   "cell_type": "code",
   "execution_count": 10,
   "id": "2f9899e3",
   "metadata": {},
   "outputs": [
    {
     "data": {
      "text/plain": [
       "6"
      ]
     },
     "execution_count": 10,
     "metadata": {},
     "output_type": "execute_result"
    }
   ],
   "source": [
    "#Let's check how many unique date this indicator has since we want to predict next day leads\n",
    "#And we only will give our model one day event. \n",
    "df_ec_filtered[df_ec_filtered.indicator.str.contains(\"Özel Kapsamlı Tüfe\",case=False)].date.nunique()\n",
    "#We only have 6 unique day for TÜFE Index. "
   ]
  },
  {
   "cell_type": "code",
   "execution_count": 11,
   "id": "e9d7c4f8",
   "metadata": {},
   "outputs": [
    {
     "data": {
      "text/plain": [
       "46"
      ]
     },
     "execution_count": 11,
     "metadata": {},
     "output_type": "execute_result"
    }
   ],
   "source": [
    "#Let's calculate how many unique day we have in total.\n",
    "df_ec_filtered.date.nunique()\n",
    "#We only have 46 unique date. Since again it is too short I will drop out this table entirely."
   ]
  },
  {
   "cell_type": "code",
   "execution_count": 12,
   "id": "4606573f",
   "metadata": {},
   "outputs": [
    {
     "data": {
      "text/html": [
       "<div>\n",
       "<style scoped>\n",
       "    .dataframe tbody tr th:only-of-type {\n",
       "        vertical-align: middle;\n",
       "    }\n",
       "\n",
       "    .dataframe tbody tr th {\n",
       "        vertical-align: top;\n",
       "    }\n",
       "\n",
       "    .dataframe thead th {\n",
       "        text-align: right;\n",
       "    }\n",
       "</style>\n",
       "<table border=\"1\" class=\"dataframe\">\n",
       "  <thead>\n",
       "    <tr style=\"text-align: right;\">\n",
       "      <th></th>\n",
       "      <th>pk</th>\n",
       "      <th>ga_transactionid</th>\n",
       "      <th>ga_datehour</th>\n",
       "      <th>ga_products</th>\n",
       "      <th>ga_channels</th>\n",
       "      <th>ga_itemquantity</th>\n",
       "    </tr>\n",
       "  </thead>\n",
       "  <tbody>\n",
       "    <tr>\n",
       "      <th>0</th>\n",
       "      <td>146288072</td>\n",
       "      <td>2_50414543</td>\n",
       "      <td>2020082900</td>\n",
       "      <td>Product D</td>\n",
       "      <td>Facebook</td>\n",
       "      <td>1</td>\n",
       "    </tr>\n",
       "    <tr>\n",
       "      <th>1</th>\n",
       "      <td>146288071</td>\n",
       "      <td>2_50414542</td>\n",
       "      <td>2020082900</td>\n",
       "      <td>Product D</td>\n",
       "      <td>Organic search</td>\n",
       "      <td>1</td>\n",
       "    </tr>\n",
       "    <tr>\n",
       "      <th>2</th>\n",
       "      <td>146287503</td>\n",
       "      <td>2_50413935</td>\n",
       "      <td>2020082900</td>\n",
       "      <td>Product D</td>\n",
       "      <td>Organic search</td>\n",
       "      <td>1</td>\n",
       "    </tr>\n",
       "    <tr>\n",
       "      <th>3</th>\n",
       "      <td>146287504</td>\n",
       "      <td>2_50413936</td>\n",
       "      <td>2020082900</td>\n",
       "      <td>Product D</td>\n",
       "      <td>Organic search</td>\n",
       "      <td>1</td>\n",
       "    </tr>\n",
       "    <tr>\n",
       "      <th>4</th>\n",
       "      <td>146296436</td>\n",
       "      <td>3_65496155</td>\n",
       "      <td>2020082900</td>\n",
       "      <td>Product E</td>\n",
       "      <td>Google Ads</td>\n",
       "      <td>1</td>\n",
       "    </tr>\n",
       "  </tbody>\n",
       "</table>\n",
       "</div>"
      ],
      "text/plain": [
       "          pk ga_transactionid  ga_datehour ga_products     ga_channels  \\\n",
       "0  146288072       2_50414543   2020082900   Product D        Facebook   \n",
       "1  146288071       2_50414542   2020082900   Product D  Organic search   \n",
       "2  146287503       2_50413935   2020082900   Product D  Organic search   \n",
       "3  146287504       2_50413936   2020082900   Product D  Organic search   \n",
       "4  146296436       3_65496155   2020082900   Product E      Google Ads   \n",
       "\n",
       "   ga_itemquantity  \n",
       "0                1  \n",
       "1                1  \n",
       "2                1  \n",
       "3                1  \n",
       "4                1  "
      ]
     },
     "execution_count": 12,
     "metadata": {},
     "output_type": "execute_result"
    }
   ],
   "source": [
    "#And now finally let's take a look at our transaction data set and preprossess it\n",
    "df_transaction = pd.read_csv(\"transactions.csv\");df_transaction.head()"
   ]
  },
  {
   "cell_type": "code",
   "execution_count": 13,
   "id": "65eccd31",
   "metadata": {},
   "outputs": [],
   "source": [
    "#We only need datehour to obtain daily leads, channels and item quantity to obtain total leads day by day so we filter\n",
    "#this 3 attributes and store it in df variable.\n",
    "df = df_transaction[[\"ga_datehour\",\"ga_channels\",\"ga_itemquantity\"]]"
   ]
  },
  {
   "cell_type": "code",
   "execution_count": 14,
   "id": "4c39f579",
   "metadata": {},
   "outputs": [],
   "source": [
    "#Let's convert string date hour data to datetime so that we can obain daily data with ease.\n",
    "df[\"ga_datehour\"] = pd.to_datetime(df.ga_datehour,format=\"%Y%m%d%H\")"
   ]
  },
  {
   "cell_type": "code",
   "execution_count": 15,
   "id": "dd0eb2f9",
   "metadata": {},
   "outputs": [],
   "source": [
    "#Let's store channels to the columns and resample it daily to obtain daily leads for each and every channel & store it in df_daily\n",
    "df_daily = pd.crosstab(df.ga_datehour.fillna(\"NA\"),df.ga_channels.fillna(\"NA\"),values=df.ga_itemquantity,aggfunc=\"sum\",dropna=False).resample(\"D\").sum()"
   ]
  },
  {
   "cell_type": "code",
   "execution_count": 16,
   "id": "b59538a8",
   "metadata": {},
   "outputs": [
    {
     "data": {
      "text/html": [
       "<div>\n",
       "<style scoped>\n",
       "    .dataframe tbody tr th:only-of-type {\n",
       "        vertical-align: middle;\n",
       "    }\n",
       "\n",
       "    .dataframe tbody tr th {\n",
       "        vertical-align: top;\n",
       "    }\n",
       "\n",
       "    .dataframe thead th {\n",
       "        text-align: right;\n",
       "    }\n",
       "</style>\n",
       "<table border=\"1\" class=\"dataframe\">\n",
       "  <thead>\n",
       "    <tr style=\"text-align: right;\">\n",
       "      <th>ga_channels</th>\n",
       "      <th>CRM</th>\n",
       "      <th>Direct</th>\n",
       "      <th>Facebook</th>\n",
       "      <th>Google Ads</th>\n",
       "      <th>NA</th>\n",
       "      <th>Organic search</th>\n",
       "      <th>Referral</th>\n",
       "    </tr>\n",
       "    <tr>\n",
       "      <th>ga_datehour</th>\n",
       "      <th></th>\n",
       "      <th></th>\n",
       "      <th></th>\n",
       "      <th></th>\n",
       "      <th></th>\n",
       "      <th></th>\n",
       "      <th></th>\n",
       "    </tr>\n",
       "  </thead>\n",
       "  <tbody>\n",
       "    <tr>\n",
       "      <th>2020-08-29</th>\n",
       "      <td>2420.0</td>\n",
       "      <td>337.0</td>\n",
       "      <td>2123.0</td>\n",
       "      <td>21985.0</td>\n",
       "      <td>1227.0</td>\n",
       "      <td>4938.0</td>\n",
       "      <td>389.0</td>\n",
       "    </tr>\n",
       "    <tr>\n",
       "      <th>2020-08-30</th>\n",
       "      <td>2611.0</td>\n",
       "      <td>376.0</td>\n",
       "      <td>2812.0</td>\n",
       "      <td>24524.0</td>\n",
       "      <td>1292.0</td>\n",
       "      <td>5878.0</td>\n",
       "      <td>505.0</td>\n",
       "    </tr>\n",
       "    <tr>\n",
       "      <th>2020-08-31</th>\n",
       "      <td>3282.0</td>\n",
       "      <td>500.0</td>\n",
       "      <td>2921.0</td>\n",
       "      <td>33484.0</td>\n",
       "      <td>1343.0</td>\n",
       "      <td>7915.0</td>\n",
       "      <td>580.0</td>\n",
       "    </tr>\n",
       "    <tr>\n",
       "      <th>2020-09-01</th>\n",
       "      <td>20859.0</td>\n",
       "      <td>501.0</td>\n",
       "      <td>2547.0</td>\n",
       "      <td>32932.0</td>\n",
       "      <td>1420.0</td>\n",
       "      <td>7588.0</td>\n",
       "      <td>614.0</td>\n",
       "    </tr>\n",
       "    <tr>\n",
       "      <th>2020-09-02</th>\n",
       "      <td>11520.0</td>\n",
       "      <td>550.0</td>\n",
       "      <td>3065.0</td>\n",
       "      <td>30143.0</td>\n",
       "      <td>1314.0</td>\n",
       "      <td>6998.0</td>\n",
       "      <td>616.0</td>\n",
       "    </tr>\n",
       "    <tr>\n",
       "      <th>...</th>\n",
       "      <td>...</td>\n",
       "      <td>...</td>\n",
       "      <td>...</td>\n",
       "      <td>...</td>\n",
       "      <td>...</td>\n",
       "      <td>...</td>\n",
       "      <td>...</td>\n",
       "    </tr>\n",
       "    <tr>\n",
       "      <th>2021-10-14</th>\n",
       "      <td>2848.0</td>\n",
       "      <td>747.0</td>\n",
       "      <td>4930.0</td>\n",
       "      <td>34627.0</td>\n",
       "      <td>3254.0</td>\n",
       "      <td>4393.0</td>\n",
       "      <td>105.0</td>\n",
       "    </tr>\n",
       "    <tr>\n",
       "      <th>2021-10-15</th>\n",
       "      <td>3953.0</td>\n",
       "      <td>722.0</td>\n",
       "      <td>4327.0</td>\n",
       "      <td>32897.0</td>\n",
       "      <td>3120.0</td>\n",
       "      <td>4175.0</td>\n",
       "      <td>66.0</td>\n",
       "    </tr>\n",
       "    <tr>\n",
       "      <th>2021-10-16</th>\n",
       "      <td>1318.0</td>\n",
       "      <td>493.0</td>\n",
       "      <td>4291.0</td>\n",
       "      <td>21555.0</td>\n",
       "      <td>5130.0</td>\n",
       "      <td>2598.0</td>\n",
       "      <td>62.0</td>\n",
       "    </tr>\n",
       "    <tr>\n",
       "      <th>2021-10-17</th>\n",
       "      <td>1953.0</td>\n",
       "      <td>599.0</td>\n",
       "      <td>6520.0</td>\n",
       "      <td>29707.0</td>\n",
       "      <td>8293.0</td>\n",
       "      <td>3384.0</td>\n",
       "      <td>88.0</td>\n",
       "    </tr>\n",
       "    <tr>\n",
       "      <th>2021-10-18</th>\n",
       "      <td>185.0</td>\n",
       "      <td>81.0</td>\n",
       "      <td>1096.0</td>\n",
       "      <td>4783.0</td>\n",
       "      <td>1307.0</td>\n",
       "      <td>531.0</td>\n",
       "      <td>15.0</td>\n",
       "    </tr>\n",
       "  </tbody>\n",
       "</table>\n",
       "<p>416 rows × 7 columns</p>\n",
       "</div>"
      ],
      "text/plain": [
       "ga_channels      CRM  Direct  Facebook  Google Ads      NA  Organic search  \\\n",
       "ga_datehour                                                                  \n",
       "2020-08-29    2420.0   337.0    2123.0     21985.0  1227.0          4938.0   \n",
       "2020-08-30    2611.0   376.0    2812.0     24524.0  1292.0          5878.0   \n",
       "2020-08-31    3282.0   500.0    2921.0     33484.0  1343.0          7915.0   \n",
       "2020-09-01   20859.0   501.0    2547.0     32932.0  1420.0          7588.0   \n",
       "2020-09-02   11520.0   550.0    3065.0     30143.0  1314.0          6998.0   \n",
       "...              ...     ...       ...         ...     ...             ...   \n",
       "2021-10-14    2848.0   747.0    4930.0     34627.0  3254.0          4393.0   \n",
       "2021-10-15    3953.0   722.0    4327.0     32897.0  3120.0          4175.0   \n",
       "2021-10-16    1318.0   493.0    4291.0     21555.0  5130.0          2598.0   \n",
       "2021-10-17    1953.0   599.0    6520.0     29707.0  8293.0          3384.0   \n",
       "2021-10-18     185.0    81.0    1096.0      4783.0  1307.0           531.0   \n",
       "\n",
       "ga_channels  Referral  \n",
       "ga_datehour            \n",
       "2020-08-29      389.0  \n",
       "2020-08-30      505.0  \n",
       "2020-08-31      580.0  \n",
       "2020-09-01      614.0  \n",
       "2020-09-02      616.0  \n",
       "...               ...  \n",
       "2021-10-14      105.0  \n",
       "2021-10-15       66.0  \n",
       "2021-10-16       62.0  \n",
       "2021-10-17       88.0  \n",
       "2021-10-18       15.0  \n",
       "\n",
       "[416 rows x 7 columns]"
      ]
     },
     "execution_count": 16,
     "metadata": {},
     "output_type": "execute_result"
    }
   ],
   "source": [
    "df_daily"
   ]
  },
  {
   "cell_type": "code",
   "execution_count": 17,
   "id": "b7ac8cab",
   "metadata": {},
   "outputs": [],
   "source": [
    "#Let's change the index and column names\n",
    "df_daily.index.names = [\"Date\"]\n",
    "df_daily.columns.names = [\"Channels\"]"
   ]
  },
  {
   "cell_type": "code",
   "execution_count": 18,
   "id": "4b801cbe",
   "metadata": {},
   "outputs": [
    {
     "data": {
      "text/html": [
       "<div>\n",
       "<style scoped>\n",
       "    .dataframe tbody tr th:only-of-type {\n",
       "        vertical-align: middle;\n",
       "    }\n",
       "\n",
       "    .dataframe tbody tr th {\n",
       "        vertical-align: top;\n",
       "    }\n",
       "\n",
       "    .dataframe thead th {\n",
       "        text-align: right;\n",
       "    }\n",
       "</style>\n",
       "<table border=\"1\" class=\"dataframe\">\n",
       "  <thead>\n",
       "    <tr style=\"text-align: right;\">\n",
       "      <th>Channels</th>\n",
       "      <th>CRM</th>\n",
       "      <th>Direct</th>\n",
       "      <th>Facebook</th>\n",
       "      <th>Google Ads</th>\n",
       "      <th>NA</th>\n",
       "      <th>Organic search</th>\n",
       "      <th>Referral</th>\n",
       "    </tr>\n",
       "    <tr>\n",
       "      <th>Date</th>\n",
       "      <th></th>\n",
       "      <th></th>\n",
       "      <th></th>\n",
       "      <th></th>\n",
       "      <th></th>\n",
       "      <th></th>\n",
       "      <th></th>\n",
       "    </tr>\n",
       "  </thead>\n",
       "  <tbody>\n",
       "    <tr>\n",
       "      <th>2020-08-29</th>\n",
       "      <td>2420.0</td>\n",
       "      <td>337.0</td>\n",
       "      <td>2123.0</td>\n",
       "      <td>21985.0</td>\n",
       "      <td>1227.0</td>\n",
       "      <td>4938.0</td>\n",
       "      <td>389.0</td>\n",
       "    </tr>\n",
       "    <tr>\n",
       "      <th>2020-08-30</th>\n",
       "      <td>2611.0</td>\n",
       "      <td>376.0</td>\n",
       "      <td>2812.0</td>\n",
       "      <td>24524.0</td>\n",
       "      <td>1292.0</td>\n",
       "      <td>5878.0</td>\n",
       "      <td>505.0</td>\n",
       "    </tr>\n",
       "    <tr>\n",
       "      <th>2020-08-31</th>\n",
       "      <td>3282.0</td>\n",
       "      <td>500.0</td>\n",
       "      <td>2921.0</td>\n",
       "      <td>33484.0</td>\n",
       "      <td>1343.0</td>\n",
       "      <td>7915.0</td>\n",
       "      <td>580.0</td>\n",
       "    </tr>\n",
       "    <tr>\n",
       "      <th>2020-09-01</th>\n",
       "      <td>20859.0</td>\n",
       "      <td>501.0</td>\n",
       "      <td>2547.0</td>\n",
       "      <td>32932.0</td>\n",
       "      <td>1420.0</td>\n",
       "      <td>7588.0</td>\n",
       "      <td>614.0</td>\n",
       "    </tr>\n",
       "    <tr>\n",
       "      <th>2020-09-02</th>\n",
       "      <td>11520.0</td>\n",
       "      <td>550.0</td>\n",
       "      <td>3065.0</td>\n",
       "      <td>30143.0</td>\n",
       "      <td>1314.0</td>\n",
       "      <td>6998.0</td>\n",
       "      <td>616.0</td>\n",
       "    </tr>\n",
       "    <tr>\n",
       "      <th>...</th>\n",
       "      <td>...</td>\n",
       "      <td>...</td>\n",
       "      <td>...</td>\n",
       "      <td>...</td>\n",
       "      <td>...</td>\n",
       "      <td>...</td>\n",
       "      <td>...</td>\n",
       "    </tr>\n",
       "    <tr>\n",
       "      <th>2021-10-14</th>\n",
       "      <td>2848.0</td>\n",
       "      <td>747.0</td>\n",
       "      <td>4930.0</td>\n",
       "      <td>34627.0</td>\n",
       "      <td>3254.0</td>\n",
       "      <td>4393.0</td>\n",
       "      <td>105.0</td>\n",
       "    </tr>\n",
       "    <tr>\n",
       "      <th>2021-10-15</th>\n",
       "      <td>3953.0</td>\n",
       "      <td>722.0</td>\n",
       "      <td>4327.0</td>\n",
       "      <td>32897.0</td>\n",
       "      <td>3120.0</td>\n",
       "      <td>4175.0</td>\n",
       "      <td>66.0</td>\n",
       "    </tr>\n",
       "    <tr>\n",
       "      <th>2021-10-16</th>\n",
       "      <td>1318.0</td>\n",
       "      <td>493.0</td>\n",
       "      <td>4291.0</td>\n",
       "      <td>21555.0</td>\n",
       "      <td>5130.0</td>\n",
       "      <td>2598.0</td>\n",
       "      <td>62.0</td>\n",
       "    </tr>\n",
       "    <tr>\n",
       "      <th>2021-10-17</th>\n",
       "      <td>1953.0</td>\n",
       "      <td>599.0</td>\n",
       "      <td>6520.0</td>\n",
       "      <td>29707.0</td>\n",
       "      <td>8293.0</td>\n",
       "      <td>3384.0</td>\n",
       "      <td>88.0</td>\n",
       "    </tr>\n",
       "    <tr>\n",
       "      <th>2021-10-18</th>\n",
       "      <td>185.0</td>\n",
       "      <td>81.0</td>\n",
       "      <td>1096.0</td>\n",
       "      <td>4783.0</td>\n",
       "      <td>1307.0</td>\n",
       "      <td>531.0</td>\n",
       "      <td>15.0</td>\n",
       "    </tr>\n",
       "  </tbody>\n",
       "</table>\n",
       "<p>416 rows × 7 columns</p>\n",
       "</div>"
      ],
      "text/plain": [
       "Channels        CRM  Direct  Facebook  Google Ads      NA  Organic search  \\\n",
       "Date                                                                        \n",
       "2020-08-29   2420.0   337.0    2123.0     21985.0  1227.0          4938.0   \n",
       "2020-08-30   2611.0   376.0    2812.0     24524.0  1292.0          5878.0   \n",
       "2020-08-31   3282.0   500.0    2921.0     33484.0  1343.0          7915.0   \n",
       "2020-09-01  20859.0   501.0    2547.0     32932.0  1420.0          7588.0   \n",
       "2020-09-02  11520.0   550.0    3065.0     30143.0  1314.0          6998.0   \n",
       "...             ...     ...       ...         ...     ...             ...   \n",
       "2021-10-14   2848.0   747.0    4930.0     34627.0  3254.0          4393.0   \n",
       "2021-10-15   3953.0   722.0    4327.0     32897.0  3120.0          4175.0   \n",
       "2021-10-16   1318.0   493.0    4291.0     21555.0  5130.0          2598.0   \n",
       "2021-10-17   1953.0   599.0    6520.0     29707.0  8293.0          3384.0   \n",
       "2021-10-18    185.0    81.0    1096.0      4783.0  1307.0           531.0   \n",
       "\n",
       "Channels    Referral  \n",
       "Date                  \n",
       "2020-08-29     389.0  \n",
       "2020-08-30     505.0  \n",
       "2020-08-31     580.0  \n",
       "2020-09-01     614.0  \n",
       "2020-09-02     616.0  \n",
       "...              ...  \n",
       "2021-10-14     105.0  \n",
       "2021-10-15      66.0  \n",
       "2021-10-16      62.0  \n",
       "2021-10-17      88.0  \n",
       "2021-10-18      15.0  \n",
       "\n",
       "[416 rows x 7 columns]"
      ]
     },
     "execution_count": 18,
     "metadata": {},
     "output_type": "execute_result"
    }
   ],
   "source": [
    "df_daily"
   ]
  },
  {
   "cell_type": "code",
   "execution_count": 19,
   "id": "bdfd6685",
   "metadata": {},
   "outputs": [
    {
     "name": "stdout",
     "output_type": "stream",
     "text": [
      "<class 'pandas.core.frame.DataFrame'>\n",
      "RangeIndex: 416 entries, 0 to 415\n",
      "Data columns (total 2 columns):\n",
      " #   Column         Non-Null Count  Dtype \n",
      "---  ------         --------------  ----- \n",
      " 0   date           416 non-null    object\n",
      " 1   live_campaign  416 non-null    int64 \n",
      "dtypes: int64(1), object(1)\n",
      "memory usage: 6.6+ KB\n",
      "None\n",
      "<class 'pandas.core.frame.DataFrame'>\n",
      "Index: 161 entries, 2021-04-28 to 2021-10-18\n",
      "Data columns (total 7 columns):\n",
      " #   Column   Non-Null Count  Dtype  \n",
      "---  ------   --------------  -----  \n",
      " 0   bist100  161 non-null    float64\n",
      " 1   usdtry   161 non-null    float64\n",
      " 2   eurtry   161 non-null    float64\n",
      " 3   eurusd   161 non-null    float64\n",
      " 4   faiz     161 non-null    float64\n",
      " 5   xau      161 non-null    float64\n",
      " 6   brent    161 non-null    float64\n",
      "dtypes: float64(7)\n",
      "memory usage: 10.1+ KB\n",
      "None\n",
      "<class 'pandas.core.frame.DataFrame'>\n",
      "DatetimeIndex: 416 entries, 2020-08-29 to 2021-10-18\n",
      "Freq: D\n",
      "Data columns (total 7 columns):\n",
      " #   Column          Non-Null Count  Dtype  \n",
      "---  ------          --------------  -----  \n",
      " 0   CRM             416 non-null    float64\n",
      " 1   Direct          416 non-null    float64\n",
      " 2   Facebook        416 non-null    float64\n",
      " 3   Google Ads      416 non-null    float64\n",
      " 4   NA              416 non-null    float64\n",
      " 5   Organic search  416 non-null    float64\n",
      " 6   Referral        416 non-null    float64\n",
      "dtypes: float64(7)\n",
      "memory usage: 26.0 KB\n",
      "None\n"
     ]
    }
   ],
   "source": [
    "#Up until now we will preprocess all the dataframes. And now let's merge it all together.\n",
    "#We will use df_daily, df_ev and df_campaigns datasets.\n",
    "#Let's check the infos of all those datasets\n",
    "print(df_campaigns.info())\n",
    "print(df_ev.info())\n",
    "print(df_daily.info())"
   ]
  },
  {
   "cell_type": "markdown",
   "id": "0b1ba83e",
   "metadata": {},
   "source": [
    "    As we can see in above, df_campaigns and df_daily dataset has 416 non-null variables but df_ev has only 161. At first let's merge it all together on the same dates and buil on a model and after that I will discard df_ev dataset and build just for 2 dataset and compare two different table."
   ]
  },
  {
   "cell_type": "code",
   "execution_count": 20,
   "id": "1282056b",
   "metadata": {},
   "outputs": [],
   "source": [
    "#Let's first convert all dates to datetime for merging \n",
    "df_campaigns.date = pd.to_datetime(df_campaigns.date)\n",
    "df_ev.index = pd.to_datetime(df_ev.index)"
   ]
  },
  {
   "cell_type": "code",
   "execution_count": 21,
   "id": "7a5b8692",
   "metadata": {},
   "outputs": [],
   "source": [
    "df_campaigns.set_index(df_campaigns.date,inplace=True)"
   ]
  },
  {
   "cell_type": "code",
   "execution_count": 22,
   "id": "47912953",
   "metadata": {},
   "outputs": [],
   "source": [
    "df_campaigns.drop(labels=[\"date\"],axis=1,inplace=True)"
   ]
  },
  {
   "cell_type": "code",
   "execution_count": 23,
   "id": "621348d9",
   "metadata": {},
   "outputs": [],
   "source": [
    "#Let's merge it all and store it in df_all dataframe\n",
    "df_all = pd.merge(df_ev,pd.merge(df_campaigns,df_daily,left_index=True,right_index=True, how=\"inner\"),left_index=True,right_index=True, how=\"inner\")"
   ]
  },
  {
   "cell_type": "code",
   "execution_count": 24,
   "id": "0071c4d9",
   "metadata": {},
   "outputs": [
    {
     "data": {
      "text/html": [
       "<div>\n",
       "<style scoped>\n",
       "    .dataframe tbody tr th:only-of-type {\n",
       "        vertical-align: middle;\n",
       "    }\n",
       "\n",
       "    .dataframe tbody tr th {\n",
       "        vertical-align: top;\n",
       "    }\n",
       "\n",
       "    .dataframe thead th {\n",
       "        text-align: right;\n",
       "    }\n",
       "</style>\n",
       "<table border=\"1\" class=\"dataframe\">\n",
       "  <thead>\n",
       "    <tr style=\"text-align: right;\">\n",
       "      <th></th>\n",
       "      <th>bist100</th>\n",
       "      <th>usdtry</th>\n",
       "      <th>eurtry</th>\n",
       "      <th>eurusd</th>\n",
       "      <th>faiz</th>\n",
       "      <th>xau</th>\n",
       "      <th>brent</th>\n",
       "      <th>live_campaign</th>\n",
       "      <th>CRM</th>\n",
       "      <th>Direct</th>\n",
       "      <th>Facebook</th>\n",
       "      <th>Google Ads</th>\n",
       "      <th>NA</th>\n",
       "      <th>Organic search</th>\n",
       "      <th>Referral</th>\n",
       "    </tr>\n",
       "    <tr>\n",
       "      <th>date</th>\n",
       "      <th></th>\n",
       "      <th></th>\n",
       "      <th></th>\n",
       "      <th></th>\n",
       "      <th></th>\n",
       "      <th></th>\n",
       "      <th></th>\n",
       "      <th></th>\n",
       "      <th></th>\n",
       "      <th></th>\n",
       "      <th></th>\n",
       "      <th></th>\n",
       "      <th></th>\n",
       "      <th></th>\n",
       "      <th></th>\n",
       "    </tr>\n",
       "  </thead>\n",
       "  <tbody>\n",
       "    <tr>\n",
       "      <th>2021-04-28</th>\n",
       "      <td>1388.590000</td>\n",
       "      <td>8.2159</td>\n",
       "      <td>9.937900</td>\n",
       "      <td>1.2096</td>\n",
       "      <td>18.08</td>\n",
       "      <td>1773.860000</td>\n",
       "      <td>67.330000</td>\n",
       "      <td>112</td>\n",
       "      <td>11852.0</td>\n",
       "      <td>578.0</td>\n",
       "      <td>5356.0</td>\n",
       "      <td>24483.0</td>\n",
       "      <td>5099.0</td>\n",
       "      <td>2313.0</td>\n",
       "      <td>211.0</td>\n",
       "    </tr>\n",
       "    <tr>\n",
       "      <th>2021-04-29</th>\n",
       "      <td>1398.850000</td>\n",
       "      <td>8.1710</td>\n",
       "      <td>9.916600</td>\n",
       "      <td>1.2120</td>\n",
       "      <td>18.08</td>\n",
       "      <td>1780.190000</td>\n",
       "      <td>67.540000</td>\n",
       "      <td>110</td>\n",
       "      <td>3271.0</td>\n",
       "      <td>433.0</td>\n",
       "      <td>4529.0</td>\n",
       "      <td>21608.0</td>\n",
       "      <td>5028.0</td>\n",
       "      <td>1829.0</td>\n",
       "      <td>152.0</td>\n",
       "    </tr>\n",
       "    <tr>\n",
       "      <th>2021-04-30</th>\n",
       "      <td>1401.520000</td>\n",
       "      <td>8.2281</td>\n",
       "      <td>9.974100</td>\n",
       "      <td>1.2117</td>\n",
       "      <td>18.08</td>\n",
       "      <td>1769.110000</td>\n",
       "      <td>68.080000</td>\n",
       "      <td>109</td>\n",
       "      <td>2913.0</td>\n",
       "      <td>604.0</td>\n",
       "      <td>6764.0</td>\n",
       "      <td>25982.0</td>\n",
       "      <td>8424.0</td>\n",
       "      <td>1896.0</td>\n",
       "      <td>199.0</td>\n",
       "    </tr>\n",
       "    <tr>\n",
       "      <th>2021-05-03</th>\n",
       "      <td>1421.150000</td>\n",
       "      <td>8.2649</td>\n",
       "      <td>9.969400</td>\n",
       "      <td>1.2056</td>\n",
       "      <td>17.94</td>\n",
       "      <td>1793.310000</td>\n",
       "      <td>67.450000</td>\n",
       "      <td>114</td>\n",
       "      <td>7218.0</td>\n",
       "      <td>819.0</td>\n",
       "      <td>9315.0</td>\n",
       "      <td>33252.0</td>\n",
       "      <td>9564.0</td>\n",
       "      <td>2828.0</td>\n",
       "      <td>199.0</td>\n",
       "    </tr>\n",
       "    <tr>\n",
       "      <th>2021-05-04</th>\n",
       "      <td>1420.996667</td>\n",
       "      <td>8.3091</td>\n",
       "      <td>9.995333</td>\n",
       "      <td>1.2025</td>\n",
       "      <td>17.94</td>\n",
       "      <td>1787.523333</td>\n",
       "      <td>68.113333</td>\n",
       "      <td>114</td>\n",
       "      <td>15261.0</td>\n",
       "      <td>683.0</td>\n",
       "      <td>7947.0</td>\n",
       "      <td>31392.0</td>\n",
       "      <td>7217.0</td>\n",
       "      <td>2602.0</td>\n",
       "      <td>197.0</td>\n",
       "    </tr>\n",
       "  </tbody>\n",
       "</table>\n",
       "</div>"
      ],
      "text/plain": [
       "                bist100  usdtry    eurtry  eurusd   faiz          xau  \\\n",
       "date                                                                    \n",
       "2021-04-28  1388.590000  8.2159  9.937900  1.2096  18.08  1773.860000   \n",
       "2021-04-29  1398.850000  8.1710  9.916600  1.2120  18.08  1780.190000   \n",
       "2021-04-30  1401.520000  8.2281  9.974100  1.2117  18.08  1769.110000   \n",
       "2021-05-03  1421.150000  8.2649  9.969400  1.2056  17.94  1793.310000   \n",
       "2021-05-04  1420.996667  8.3091  9.995333  1.2025  17.94  1787.523333   \n",
       "\n",
       "                brent  live_campaign      CRM  Direct  Facebook  Google Ads  \\\n",
       "date                                                                          \n",
       "2021-04-28  67.330000            112  11852.0   578.0    5356.0     24483.0   \n",
       "2021-04-29  67.540000            110   3271.0   433.0    4529.0     21608.0   \n",
       "2021-04-30  68.080000            109   2913.0   604.0    6764.0     25982.0   \n",
       "2021-05-03  67.450000            114   7218.0   819.0    9315.0     33252.0   \n",
       "2021-05-04  68.113333            114  15261.0   683.0    7947.0     31392.0   \n",
       "\n",
       "                NA  Organic search  Referral  \n",
       "date                                          \n",
       "2021-04-28  5099.0          2313.0     211.0  \n",
       "2021-04-29  5028.0          1829.0     152.0  \n",
       "2021-04-30  8424.0          1896.0     199.0  \n",
       "2021-05-03  9564.0          2828.0     199.0  \n",
       "2021-05-04  7217.0          2602.0     197.0  "
      ]
     },
     "execution_count": 24,
     "metadata": {},
     "output_type": "execute_result"
    }
   ],
   "source": [
    "df_all.head()"
   ]
  },
  {
   "cell_type": "code",
   "execution_count": 25,
   "id": "3a031efe",
   "metadata": {},
   "outputs": [],
   "source": [
    "#Let's seperate features and targets\n",
    "X = df_all.loc[:,\"bist100\":\"live_campaign\"]\n",
    "y = df_all.loc[:,\"CRM\":]"
   ]
  },
  {
   "cell_type": "code",
   "execution_count": 26,
   "id": "c39049e1",
   "metadata": {},
   "outputs": [],
   "source": [
    "#Let's import train test split and gridsearch cv\n",
    "from sklearn.model_selection import train_test_split,GridSearchCV"
   ]
  },
  {
   "cell_type": "code",
   "execution_count": 35,
   "id": "13927faa",
   "metadata": {},
   "outputs": [],
   "source": [
    " from sklearn.preprocessing import StandardScaler\n",
    "from sklearn.pipeline import Pipeline\n",
    "from sklearn.ensemble import GradientBoostingRegressor,RandomForestRegressor\n",
    "from sklearn.neighbors import KNeighborsRegressor\n",
    "from sklearn.metrics import mean_squared_error"
   ]
  },
  {
   "cell_type": "code",
   "execution_count": 27,
   "id": "42ac597b",
   "metadata": {},
   "outputs": [],
   "source": [
    "#Let's do train test split\n",
    "X_train,X_test,y_train,y_test =train_test_split(X,y,test_size=0.2,random_state=42)"
   ]
  },
  {
   "cell_type": "code",
   "execution_count": 34,
   "id": "f995c60f",
   "metadata": {},
   "outputs": [],
   "source": [
    "#Since bist100, usdtry and other columns have different scales we should scale it first.\n",
    "scaler = StandardScaler()\n",
    "scaler.fit(X_train)\n",
    "X_trainStandard = scaler.transform(X_train)\n",
    "X_testStandard = scaler.transform(X_test)"
   ]
  },
  {
   "cell_type": "code",
   "execution_count": 45,
   "id": "1deabe42",
   "metadata": {},
   "outputs": [
    {
     "name": "stdout",
     "output_type": "stream",
     "text": [
      "Fitting 5 folds for each of 186 candidates, totalling 930 fits\n",
      "CRM\n",
      "{'regressor': KNeighborsRegressor(algorithm='brute', n_neighbors=3), 'regressor__algorithm': 'brute', 'regressor__n_neighbors': 3, 'regressor__weights': 'uniform'}\n",
      "Fitting 5 folds for each of 186 candidates, totalling 930 fits\n",
      "Direct\n",
      "{'regressor': GradientBoostingRegressor(learning_rate=0.01, max_depth=1, n_estimators=10000,\n",
      "                          random_state=42), 'regressor__learning_rate': 0.01, 'regressor__max_depth': 1, 'regressor__n_estimators': 10000}\n",
      "Fitting 5 folds for each of 186 candidates, totalling 930 fits\n",
      "Facebook\n",
      "{'regressor': RandomForestRegressor(max_features=6, n_estimators=150, random_state=42), 'regressor__max_features': 6, 'regressor__n_estimators': 150}\n",
      "Fitting 5 folds for each of 186 candidates, totalling 930 fits\n",
      "Google Ads\n",
      "{'regressor': GradientBoostingRegressor(max_depth=1, n_estimators=5000, random_state=42), 'regressor__learning_rate': 0.1, 'regressor__max_depth': 1, 'regressor__n_estimators': 5000}\n",
      "Fitting 5 folds for each of 186 candidates, totalling 930 fits\n",
      "NA\n",
      "{'regressor': RandomForestRegressor(max_features=2, n_estimators=150, random_state=42), 'regressor__max_features': 2, 'regressor__n_estimators': 150}\n",
      "Fitting 5 folds for each of 186 candidates, totalling 930 fits\n",
      "Organic search\n",
      "{'regressor': GradientBoostingRegressor(learning_rate=0.01, max_depth=2, n_estimators=5000,\n",
      "                          random_state=42), 'regressor__learning_rate': 0.01, 'regressor__max_depth': 2, 'regressor__n_estimators': 5000}\n",
      "Fitting 5 folds for each of 186 candidates, totalling 930 fits\n",
      "Referral\n",
      "{'regressor': KNeighborsRegressor(n_neighbors=4), 'regressor__algorithm': 'auto', 'regressor__n_neighbors': 4, 'regressor__weights': 'uniform'}\n"
     ]
    }
   ],
   "source": [
    "#Now instead of applying one model one by one let's do grid search for all columns\n",
    "pipe = Pipeline([(\"scaler\",StandardScaler()),(\"regressor\",GradientBoostingRegressor())])\n",
    "\n",
    "models = [{\"regressor\" : [GradientBoostingRegressor(random_state= 42)],\n",
    "          \"regressor__learning_rate\": [1, 0.1, 0.01],\n",
    "          \"regressor__max_depth\": [1,2,3],\n",
    "          \"regressor__n_estimators\": [100,1000,5000,10000]},\n",
    "         {\"regressor\":[RandomForestRegressor(random_state=42)],\n",
    "         \"regressor__n_estimators\": np.arange(50,600,50),\n",
    "         \"regressor__max_features\": np.arange(1,11)},\n",
    "         {\"regressor\":[KNeighborsRegressor()],\n",
    "         \"regressor__n_neighbors\": np.arange(5),\n",
    "         \"regressor__weights\":[\"uniform\",\"distance\"],\n",
    "         \"regressor__algorithm\":['auto', 'ball_tree', 'kd_tree', 'brute']}]\n",
    "\n",
    "Grid_Search = GridSearchCV(estimator=pipe,param_grid=models,cv=5,verbose=2,n_jobs=-1,scoring=\"neg_mean_squared_error\")\n",
    "for col in y_train.columns:\n",
    "    Grid_Search.fit(X_train,y_train[col])\n",
    "    print(col)\n",
    "    print(Grid_Search.best_params_)"
   ]
  },
  {
   "cell_type": "code",
   "execution_count": 46,
   "id": "f8c9009a",
   "metadata": {},
   "outputs": [
    {
     "name": "stdout",
     "output_type": "stream",
     "text": [
      "Test Score:  16372423.407407403\n"
     ]
    }
   ],
   "source": [
    "knn_crm=KNeighborsRegressor(algorithm=\"brute\",n_neighbors=3,weights=\"uniform\")\n",
    "knn_crm.fit(X_trainStandard,y_train[\"CRM\"])\n",
    "y_pred_crm =knn_crm.predict(X_testStandard)\n",
    "print(\"Test Score: \",mean_squared_error(y_pred_crm,y_test[\"CRM\"]))\n",
    "results=pd.DataFrame([],columns=[\"MSE\"])\n",
    "results.loc[\"CRM\"]=mean_squared_error(y_pred_crm,y_test[\"CRM\"])"
   ]
  },
  {
   "cell_type": "code",
   "execution_count": 47,
   "id": "1fca8b29",
   "metadata": {},
   "outputs": [
    {
     "name": "stdout",
     "output_type": "stream",
     "text": [
      "Test Score:  16312.922499306465\n"
     ]
    }
   ],
   "source": [
    "gbr_direct = GradientBoostingRegressor(learning_rate=0.01, max_depth=1, n_estimators=10000,random_state=42)\n",
    "gbr_direct.fit(X_trainStandard,y_train[\"Direct\"])\n",
    "y_pred_direct = gbr_direct.predict(X_testStandard)\n",
    "print(\"Test Score: \", mean_squared_error(y_pred_direct,y_test[\"Direct\"]))\n",
    "results.loc[\"Direct\"]=mean_squared_error(y_pred_direct,y_test[\"Direct\"])"
   ]
  },
  {
   "cell_type": "code",
   "execution_count": 49,
   "id": "09f0078e",
   "metadata": {},
   "outputs": [
    {
     "name": "stdout",
     "output_type": "stream",
     "text": [
      "Test Score:  1629370.3690781144\n"
     ]
    }
   ],
   "source": [
    "rfr_facebook= RandomForestRegressor(max_features=6, n_estimators=150,random_state=42)\n",
    "rfr_facebook.fit(X_trainStandard,y_train[\"Facebook\"])\n",
    "y_pred_facebook=rfr_facebook.predict(X_testStandard)\n",
    "print(\"Test Score: \", mean_squared_error(y_pred_facebook,y_test[\"Facebook\"]))\n",
    "results.loc[\"Facebook\"]=mean_squared_error(y_pred_facebook,y_test[\"Facebook\"])"
   ]
  },
  {
   "cell_type": "code",
   "execution_count": 50,
   "id": "ce31dcd2",
   "metadata": {},
   "outputs": [
    {
     "name": "stdout",
     "output_type": "stream",
     "text": [
      "Test Score:  17951686.956024468\n"
     ]
    }
   ],
   "source": [
    "gbr_google = GradientBoostingRegressor(learning_rate=0.1, max_depth=1, n_estimators=5000,random_state=42)\n",
    "gbr_google.fit(X_trainStandard,y_train[\"Google Ads\"])\n",
    "y_pred_google = gbr_google.predict(X_testStandard)\n",
    "print(\"Test Score: \", mean_squared_error(y_pred_google,y_test[\"Google Ads\"]))\n",
    "results.loc[\"Google Ads\"]=mean_squared_error(y_pred_google,y_test[\"Google Ads\"])"
   ]
  },
  {
   "cell_type": "code",
   "execution_count": 52,
   "id": "120d3a31",
   "metadata": {},
   "outputs": [
    {
     "name": "stdout",
     "output_type": "stream",
     "text": [
      "Test Score:  14303197.560084587\n"
     ]
    }
   ],
   "source": [
    "rfr_na= RandomForestRegressor(max_features=2, n_estimators=150,random_state=42)\n",
    "rfr_na.fit(X_trainStandard,y_train[\"NA\"])\n",
    "y_pred_na=rfr_na.predict(X_testStandard)\n",
    "print(\"Test Score: \", mean_squared_error(y_pred_na,y_test[\"NA\"]))\n",
    "results.loc[\"NA\"]=mean_squared_error(y_pred_na,y_test[\"NA\"])"
   ]
  },
  {
   "cell_type": "code",
   "execution_count": 54,
   "id": "f21f00ce",
   "metadata": {},
   "outputs": [
    {
     "name": "stdout",
     "output_type": "stream",
     "text": [
      "Test Score:  231463.44726681607\n"
     ]
    }
   ],
   "source": [
    "gbr_organic = GradientBoostingRegressor(learning_rate=0.01, max_depth=2, n_estimators=5000,random_state=42)\n",
    "gbr_organic.fit(X_trainStandard,y_train[\"Organic search\"])\n",
    "y_pred_organic = gbr_organic.predict(X_testStandard)\n",
    "print(\"Test Score: \", mean_squared_error(y_pred_organic,y_test[\"Organic search\"]))\n",
    "results.loc[\"Organic search\"]=mean_squared_error(y_pred_organic,y_test[\"Organic search\"])"
   ]
  },
  {
   "cell_type": "code",
   "execution_count": 56,
   "id": "6787323d",
   "metadata": {},
   "outputs": [
    {
     "name": "stdout",
     "output_type": "stream",
     "text": [
      "Test Score:  45507.429924242424\n"
     ]
    }
   ],
   "source": [
    "knn_referral=KNeighborsRegressor(algorithm=\"auto\",n_neighbors=4,weights=\"uniform\")\n",
    "knn_referral.fit(X_trainStandard,y_train[\"Referral\"])\n",
    "y_pred_referral =knn_referral.predict(X_testStandard)\n",
    "print(\"Test Score: \",mean_squared_error(y_pred_referral,y_test[\"Referral\"]))\n",
    "results.loc[\"Referral\"]=mean_squared_error(y_pred_referral,y_test[\"Referral\"])"
   ]
  },
  {
   "cell_type": "code",
   "execution_count": 57,
   "id": "d709d3fd",
   "metadata": {},
   "outputs": [
    {
     "data": {
      "text/html": [
       "<div>\n",
       "<style scoped>\n",
       "    .dataframe tbody tr th:only-of-type {\n",
       "        vertical-align: middle;\n",
       "    }\n",
       "\n",
       "    .dataframe tbody tr th {\n",
       "        vertical-align: top;\n",
       "    }\n",
       "\n",
       "    .dataframe thead th {\n",
       "        text-align: right;\n",
       "    }\n",
       "</style>\n",
       "<table border=\"1\" class=\"dataframe\">\n",
       "  <thead>\n",
       "    <tr style=\"text-align: right;\">\n",
       "      <th></th>\n",
       "      <th>MSE</th>\n",
       "    </tr>\n",
       "  </thead>\n",
       "  <tbody>\n",
       "    <tr>\n",
       "      <th>CRM</th>\n",
       "      <td>1.637242e+07</td>\n",
       "    </tr>\n",
       "    <tr>\n",
       "      <th>Direct</th>\n",
       "      <td>1.631292e+04</td>\n",
       "    </tr>\n",
       "    <tr>\n",
       "      <th>Facebook</th>\n",
       "      <td>1.629370e+06</td>\n",
       "    </tr>\n",
       "    <tr>\n",
       "      <th>Google Ads</th>\n",
       "      <td>1.795169e+07</td>\n",
       "    </tr>\n",
       "    <tr>\n",
       "      <th>NA</th>\n",
       "      <td>1.430320e+07</td>\n",
       "    </tr>\n",
       "    <tr>\n",
       "      <th>Organic search</th>\n",
       "      <td>2.314634e+05</td>\n",
       "    </tr>\n",
       "    <tr>\n",
       "      <th>Referral</th>\n",
       "      <td>4.550743e+04</td>\n",
       "    </tr>\n",
       "  </tbody>\n",
       "</table>\n",
       "</div>"
      ],
      "text/plain": [
       "                         MSE\n",
       "CRM             1.637242e+07\n",
       "Direct          1.631292e+04\n",
       "Facebook        1.629370e+06\n",
       "Google Ads      1.795169e+07\n",
       "NA              1.430320e+07\n",
       "Organic search  2.314634e+05\n",
       "Referral        4.550743e+04"
      ]
     },
     "execution_count": 57,
     "metadata": {},
     "output_type": "execute_result"
    }
   ],
   "source": [
    "results"
   ]
  },
  {
   "cell_type": "code",
   "execution_count": 60,
   "id": "5e78cd7c",
   "metadata": {},
   "outputs": [],
   "source": [
    "#Let's merge it just df_campaigns and df_daily and forecast\n",
    "df_all_new = pd.merge(df_campaigns,df_daily,left_index=True,right_index=True, how=\"inner\");df_all_new.head()"
   ]
  },
  {
   "cell_type": "code",
   "execution_count": 64,
   "id": "4ea9cb39",
   "metadata": {},
   "outputs": [],
   "source": [
    "#Let's seperate features and targets\n",
    "X_new = df_all_new.loc[:,\"live_campaign\"]\n",
    "y_new = df_all_new.loc[:,\"CRM\":]"
   ]
  },
  {
   "cell_type": "code",
   "execution_count": 65,
   "id": "ce33e59a",
   "metadata": {},
   "outputs": [],
   "source": [
    "#Let's do train test split\n",
    "X_train_new ,X_test_new,y_train_new,y_test_new =train_test_split(X_new,y_new,test_size=0.2,random_state=42)"
   ]
  },
  {
   "cell_type": "code",
   "execution_count": 73,
   "id": "df4141a0",
   "metadata": {},
   "outputs": [
    {
     "name": "stdout",
     "output_type": "stream",
     "text": [
      "Fitting 5 folds for each of 186 candidates, totalling 930 fits\n",
      "CRM\n",
      "{'regressor': GradientBoostingRegressor(learning_rate=0.01, max_depth=1, random_state=42), 'regressor__learning_rate': 0.01, 'regressor__max_depth': 1, 'regressor__n_estimators': 100}\n",
      "Fitting 5 folds for each of 186 candidates, totalling 930 fits\n",
      "Direct\n",
      "{'regressor': GradientBoostingRegressor(learning_rate=0.01, max_depth=1, n_estimators=1000,\n",
      "                          random_state=42), 'regressor__learning_rate': 0.01, 'regressor__max_depth': 1, 'regressor__n_estimators': 1000}\n",
      "Fitting 5 folds for each of 186 candidates, totalling 930 fits\n",
      "Facebook\n",
      "{'regressor': GradientBoostingRegressor(max_depth=1, random_state=42), 'regressor__learning_rate': 0.1, 'regressor__max_depth': 1, 'regressor__n_estimators': 100}\n",
      "Fitting 5 folds for each of 186 candidates, totalling 930 fits\n",
      "Google Ads\n",
      "{'regressor': GradientBoostingRegressor(max_depth=1, random_state=42), 'regressor__learning_rate': 0.1, 'regressor__max_depth': 1, 'regressor__n_estimators': 100}\n",
      "Fitting 5 folds for each of 186 candidates, totalling 930 fits\n",
      "NA\n",
      "{'regressor': GradientBoostingRegressor(learning_rate=0.01, max_depth=1, random_state=42), 'regressor__learning_rate': 0.01, 'regressor__max_depth': 1, 'regressor__n_estimators': 100}\n",
      "Fitting 5 folds for each of 186 candidates, totalling 930 fits\n",
      "Organic search\n",
      "{'regressor': GradientBoostingRegressor(learning_rate=0.01, max_depth=1, n_estimators=5000,\n",
      "                          random_state=42), 'regressor__learning_rate': 0.01, 'regressor__max_depth': 1, 'regressor__n_estimators': 5000}\n",
      "Fitting 5 folds for each of 186 candidates, totalling 930 fits\n",
      "Referral\n",
      "{'regressor': GradientBoostingRegressor(learning_rate=0.01, max_depth=1, n_estimators=5000,\n",
      "                          random_state=42), 'regressor__learning_rate': 0.01, 'regressor__max_depth': 1, 'regressor__n_estimators': 5000}\n"
     ]
    }
   ],
   "source": [
    "#Since there is only one feature no need to scale it.\n",
    "pipe = Pipeline([(\"regressor\",GradientBoostingRegressor())])\n",
    "\n",
    "models = [{\"regressor\" : [GradientBoostingRegressor(random_state= 42)],\n",
    "          \"regressor__learning_rate\": [1, 0.1, 0.01],\n",
    "          \"regressor__max_depth\": [1,2,3],\n",
    "          \"regressor__n_estimators\": [100,1000,5000,10000]},\n",
    "         {\"regressor\":[RandomForestRegressor(random_state=42)],\n",
    "         \"regressor__n_estimators\": np.arange(50,600,50),\n",
    "         \"regressor__max_features\": np.arange(1,11)},\n",
    "         {\"regressor\":[KNeighborsRegressor()],\n",
    "         \"regressor__n_neighbors\": np.arange(5),\n",
    "         \"regressor__weights\":[\"uniform\",\"distance\"],\n",
    "         \"regressor__algorithm\":['auto', 'ball_tree', 'kd_tree', 'brute']}]\n",
    "\n",
    "Grid_Search = GridSearchCV(estimator=pipe,param_grid=models,cv=5,verbose=2,n_jobs=-1,scoring=\"neg_mean_squared_error\")\n",
    "for col in y_train_new.columns:\n",
    "    Grid_Search.fit(X_train_new.values.reshape(-1,1),y_train_new[col])\n",
    "    print(col)\n",
    "    print(Grid_Search.best_params_)"
   ]
  },
  {
   "cell_type": "code",
   "execution_count": 77,
   "id": "e899d14f",
   "metadata": {},
   "outputs": [
    {
     "name": "stdout",
     "output_type": "stream",
     "text": [
      "Test Score:  17025765.336315833\n"
     ]
    }
   ],
   "source": [
    "gbr_crm_new=GradientBoostingRegressor(learning_rate=0.01,max_depth=1,n_estimators=100,random_state=42)\n",
    "gbr_crm_new.fit(X_train_new.values.reshape(-1,1),y_train_new[\"CRM\"])\n",
    "y_pred_crm_new =gbr_crm_new.predict(X_test_new.values.reshape(-1,1))\n",
    "print(\"Test Score: \",mean_squared_error(y_pred_crm_new,y_test_new[\"CRM\"]))\n",
    "results.loc[\"CRM\",\"MSE_New\"]=mean_squared_error(y_pred_crm_new,y_test_new[\"CRM\"])"
   ]
  },
  {
   "cell_type": "code",
   "execution_count": 79,
   "id": "2a8b8dde",
   "metadata": {},
   "outputs": [
    {
     "name": "stdout",
     "output_type": "stream",
     "text": [
      "Test Score:  18204.95419060235\n"
     ]
    }
   ],
   "source": [
    "gbr_direct_new = GradientBoostingRegressor(learning_rate=0.01,max_depth=1,n_estimators=1000,random_state=42)\n",
    "gbr_direct_new.fit(X_train_new.values.reshape(-1,1),y_train_new[\"Direct\"])\n",
    "y_pred_direct_new =gbr_direct_new.predict(X_test_new.values.reshape(-1,1))\n",
    "print(\"Test Score: \",mean_squared_error(y_pred_direct_new,y_test_new[\"Direct\"]))\n",
    "results.loc[\"Direct\",\"MSE_New\"]=mean_squared_error(y_pred_direct_new,y_test_new[\"Direct\"])"
   ]
  },
  {
   "cell_type": "code",
   "execution_count": 80,
   "id": "3e01428c",
   "metadata": {},
   "outputs": [
    {
     "name": "stdout",
     "output_type": "stream",
     "text": [
      "Test Score:  6407252.171251355\n"
     ]
    }
   ],
   "source": [
    "gbr_facebook_new = GradientBoostingRegressor(learning_rate=0.1,max_depth=1,n_estimators=100,random_state=42)\n",
    "gbr_facebook_new.fit(X_train_new.values.reshape(-1,1),y_train_new[\"Facebook\"])\n",
    "y_pred_facebook_new =gbr_facebook_new.predict(X_test_new.values.reshape(-1,1))\n",
    "print(\"Test Score: \",mean_squared_error(y_pred_facebook_new,y_test_new[\"Facebook\"]))\n",
    "results.loc[\"Facebook\",\"MSE_New\"]=mean_squared_error(y_pred_facebook_new,y_test_new[\"Facebook\"])"
   ]
  },
  {
   "cell_type": "code",
   "execution_count": 81,
   "id": "b64ec995",
   "metadata": {},
   "outputs": [
    {
     "name": "stdout",
     "output_type": "stream",
     "text": [
      "Test Score:  20145123.41494296\n"
     ]
    }
   ],
   "source": [
    "gbr_google_new = GradientBoostingRegressor(learning_rate=0.1,max_depth=1,n_estimators=100,random_state=42)\n",
    "gbr_google_new.fit(X_train_new.values.reshape(-1,1),y_train_new[\"Google Ads\"])\n",
    "y_pred_google_new =gbr_google_new.predict(X_test_new.values.reshape(-1,1))\n",
    "print(\"Test Score: \",mean_squared_error(y_pred_google_new,y_test_new[\"Google Ads\"]))\n",
    "results.loc[\"Google Ads\",\"MSE_New\"]=mean_squared_error(y_pred_google_new,y_test_new[\"Google Ads\"])"
   ]
  },
  {
   "cell_type": "code",
   "execution_count": 83,
   "id": "13673b6c",
   "metadata": {},
   "outputs": [
    {
     "name": "stdout",
     "output_type": "stream",
     "text": [
      "Test Score:  13942714.869032195\n"
     ]
    }
   ],
   "source": [
    "gbr_na_new = GradientBoostingRegressor(learning_rate=0.01,max_depth=1,n_estimators=100,random_state=42)\n",
    "gbr_na_new.fit(X_train_new.values.reshape(-1,1),y_train_new[\"NA\"])\n",
    "y_pred_na_new =gbr_na_new.predict(X_test_new.values.reshape(-1,1))\n",
    "print(\"Test Score: \",mean_squared_error(y_pred_na_new,y_test_new[\"NA\"]))\n",
    "results.loc[\"NA\",\"MSE_New\"]=mean_squared_error(y_pred_na_new,y_test_new[\"NA\"])"
   ]
  },
  {
   "cell_type": "code",
   "execution_count": 85,
   "id": "de2347b1",
   "metadata": {},
   "outputs": [
    {
     "name": "stdout",
     "output_type": "stream",
     "text": [
      "Test Score:  3427184.1346507412\n"
     ]
    }
   ],
   "source": [
    "gbr_organic_new = GradientBoostingRegressor(learning_rate=0.01,max_depth=1,n_estimators=5000,random_state=42)\n",
    "gbr_organic_new.fit(X_train_new.values.reshape(-1,1),y_train_new[\"Organic search\"])\n",
    "y_pred_organic_new =gbr_organic_new.predict(X_test_new.values.reshape(-1,1))\n",
    "print(\"Test Score: \",mean_squared_error(y_pred_organic_new,y_test_new[\"Organic search\"]))\n",
    "results.loc[\"Organic search\",\"MSE_New\"]=mean_squared_error(y_pred_organic_new,y_test_new[\"Organic search\"])"
   ]
  },
  {
   "cell_type": "code",
   "execution_count": 87,
   "id": "852c7c05",
   "metadata": {},
   "outputs": [
    {
     "name": "stdout",
     "output_type": "stream",
     "text": [
      "Test Score:  39627.65873813055\n"
     ]
    }
   ],
   "source": [
    "gbr_referral_new = GradientBoostingRegressor(learning_rate=0.01,max_depth=1,n_estimators=5000,random_state=42)\n",
    "gbr_referral_new.fit(X_train_new.values.reshape(-1,1),y_train_new[\"Referral\"])\n",
    "y_pred_referral_new =gbr_referral_new.predict(X_test_new.values.reshape(-1,1))\n",
    "print(\"Test Score: \",mean_squared_error(y_pred_referral_new,y_test_new[\"Referral\"]))\n",
    "results.loc[\"Referral\",\"MSE_New\"]=mean_squared_error(y_pred_referral_new,y_test_new[\"Referral\"])"
   ]
  },
  {
   "cell_type": "code",
   "execution_count": 88,
   "id": "6c4fc1c5",
   "metadata": {},
   "outputs": [
    {
     "data": {
      "text/html": [
       "<div>\n",
       "<style scoped>\n",
       "    .dataframe tbody tr th:only-of-type {\n",
       "        vertical-align: middle;\n",
       "    }\n",
       "\n",
       "    .dataframe tbody tr th {\n",
       "        vertical-align: top;\n",
       "    }\n",
       "\n",
       "    .dataframe thead th {\n",
       "        text-align: right;\n",
       "    }\n",
       "</style>\n",
       "<table border=\"1\" class=\"dataframe\">\n",
       "  <thead>\n",
       "    <tr style=\"text-align: right;\">\n",
       "      <th></th>\n",
       "      <th>MSE</th>\n",
       "      <th>MSE_New</th>\n",
       "    </tr>\n",
       "  </thead>\n",
       "  <tbody>\n",
       "    <tr>\n",
       "      <th>CRM</th>\n",
       "      <td>1.637242e+07</td>\n",
       "      <td>1.702577e+07</td>\n",
       "    </tr>\n",
       "    <tr>\n",
       "      <th>Direct</th>\n",
       "      <td>1.631292e+04</td>\n",
       "      <td>1.820495e+04</td>\n",
       "    </tr>\n",
       "    <tr>\n",
       "      <th>Facebook</th>\n",
       "      <td>1.629370e+06</td>\n",
       "      <td>6.407252e+06</td>\n",
       "    </tr>\n",
       "    <tr>\n",
       "      <th>Google Ads</th>\n",
       "      <td>1.795169e+07</td>\n",
       "      <td>2.014512e+07</td>\n",
       "    </tr>\n",
       "    <tr>\n",
       "      <th>NA</th>\n",
       "      <td>1.430320e+07</td>\n",
       "      <td>1.394271e+07</td>\n",
       "    </tr>\n",
       "    <tr>\n",
       "      <th>Organic search</th>\n",
       "      <td>2.314634e+05</td>\n",
       "      <td>3.427184e+06</td>\n",
       "    </tr>\n",
       "    <tr>\n",
       "      <th>Referral</th>\n",
       "      <td>4.550743e+04</td>\n",
       "      <td>3.962766e+04</td>\n",
       "    </tr>\n",
       "  </tbody>\n",
       "</table>\n",
       "</div>"
      ],
      "text/plain": [
       "                         MSE       MSE_New\n",
       "CRM             1.637242e+07  1.702577e+07\n",
       "Direct          1.631292e+04  1.820495e+04\n",
       "Facebook        1.629370e+06  6.407252e+06\n",
       "Google Ads      1.795169e+07  2.014512e+07\n",
       "NA              1.430320e+07  1.394271e+07\n",
       "Organic search  2.314634e+05  3.427184e+06\n",
       "Referral        4.550743e+04  3.962766e+04"
      ]
     },
     "execution_count": 88,
     "metadata": {},
     "output_type": "execute_result"
    }
   ],
   "source": [
    "results"
   ]
  },
  {
   "cell_type": "markdown",
   "id": "dc8cfd90",
   "metadata": {},
   "source": [
    "## Summary\n",
    "In general we can clearly see from table prediction results obtained more better if we use economic variable table but there is not a lot difference between two results."
   ]
  }
 ],
 "metadata": {
  "kernelspec": {
   "display_name": "Python 3",
   "language": "python",
   "name": "python3"
  },
  "language_info": {
   "codemirror_mode": {
    "name": "ipython",
    "version": 3
   },
   "file_extension": ".py",
   "mimetype": "text/x-python",
   "name": "python",
   "nbconvert_exporter": "python",
   "pygments_lexer": "ipython3",
   "version": "3.8.8"
  }
 },
 "nbformat": 4,
 "nbformat_minor": 5
}
